{
 "cells": [
  {
   "cell_type": "code",
   "execution_count": 3,
   "metadata": {},
   "outputs": [
    {
     "name": "stderr",
     "output_type": "stream",
     "text": [
      "c:\\Users\\holol\\anaconda3\\lib\\site-packages\\scipy\\__init__.py:146: UserWarning: A NumPy version >=1.16.5 and <1.23.0 is required for this version of SciPy (detected version 1.23.1\n",
      "  warnings.warn(f\"A NumPy version >={np_minversion} and <{np_maxversion}\"\n"
     ]
    }
   ],
   "source": [
    "import numpy as np\n",
    "from scipy import stats, optimize, interpolate\n",
    "import scipy"
   ]
  },
  {
   "cell_type": "code",
   "execution_count": 4,
   "metadata": {},
   "outputs": [],
   "source": [
    "def f(x):\n",
    "    return x**2 + 10*np.sin(x)"
   ]
  },
  {
   "cell_type": "code",
   "execution_count": 5,
   "metadata": {},
   "outputs": [
    {
     "name": "stdout",
     "output_type": "stream",
     "text": [
      "\n",
      "Optimization terminated successfully;\n",
      "The returned value satisfies the termination criteria\n",
      "(using xtol =  0.01 )\n",
      "(-1.3061484200406244, -7.94582288025181, 0, 11)\n"
     ]
    }
   ],
   "source": [
    "a = scipy.optimize.fminbound(f,\n",
    "                          x1 = -10,\n",
    "                          x2 = 10,\n",
    "                          xtol = 0.01,   # Max Tolerance\n",
    "                          full_output = True,  # details\n",
    "                          disp = 2)  # 1 show only numbers\n",
    "print(a)  #value of x , value of y , 0 for convergance, number of iterations"
   ]
  },
  {
   "cell_type": "code",
   "execution_count": 6,
   "metadata": {},
   "outputs": [
    {
     "name": "stdout",
     "output_type": "stream",
     "text": [
      "-3.999996435239639\n",
      "-1.1102230246251565e-16\n",
      "-3.999996435239639\n",
      "2.0\n",
      "0.868518564878511\n",
      "-3.999996435239639\n"
     ]
    }
   ],
   "source": [
    "def a(x):\n",
    "    return (x)\n",
    "def b(x):\n",
    "    return (x**2)\n",
    "def c(x):\n",
    "    return (x**3)\n",
    "def d(x):\n",
    "    return (x**2 - 4*x + 1)\n",
    "def e(x):\n",
    "    return (x**3 + x**2 - 4*x -3)\n",
    "def f(x):\n",
    "    return (x/1)\n",
    "\n",
    "print(optimize.fminbound(a, -4, 4))\n",
    "print(optimize.fminbound(b, -4, 4))\n",
    "print(optimize.fminbound(c, -4, 4))\n",
    "print(optimize.fminbound(d, -4, 4))\n",
    "print(optimize.fminbound(e, -4, 4))\n",
    "print(optimize.fminbound(f, -4, 4))"
   ]
  },
  {
   "cell_type": "markdown",
   "metadata": {},
   "source": [
    "***bfgs***"
   ]
  },
  {
   "cell_type": "code",
   "execution_count": 13,
   "metadata": {},
   "outputs": [],
   "source": [
    "import matplotlib.pyplot as plt"
   ]
  },
  {
   "cell_type": "code",
   "execution_count": 19,
   "metadata": {},
   "outputs": [
    {
     "data": {
      "image/png": "[encoded data removed]",
      "text/plain": [
       "<Figure size 432x288 with 1 Axes>"
      ]
     },
     "metadata": {
      "needs_background": "light"
     },
     "output_type": "display_data"
    },
    {
     "name": "stdout",
     "output_type": "stream",
     "text": [
      "Warning: Maximum number of iterations has been exceeded.\n",
      "         Current function value: 1239.195121\n",
      "         Iterations: 2\n",
      "         Function evaluations: 8\n",
      "         Gradient evaluations: 4\n",
      "\n",
      "(array([35.29788524]), [array([50]), array([44.95]), array([35.29788524])])\n"
     ]
    }
   ],
   "source": [
    "def f(x):\n",
    "    return x**2 + 10*np.sin(x)\n",
    "\n",
    "x = np.arange(-10,10,0.1)\n",
    "plt.plot(x,f(x))\n",
    "plt.show()\n",
    "\n",
    "a = scipy.optimize.fmin_bfgs(f,\n",
    "                          x0 = 50,\n",
    "                          epsilon = 10,\n",
    "                          disp = 1,\n",
    "                          retall = 1,\n",
    "                          maxiter = 2)\n",
    "\n",
    "print()\n",
    "print(a)"
   ]
  },
  {
   "cell_type": "markdown",
   "metadata": {},
   "source": [
    "***basinhopping***"
   ]
  },
  {
   "cell_type": "code",
   "execution_count": 21,
   "metadata": {},
   "outputs": [
    {
     "data": {
      "text/plain": [
       "                        fun: -7.9458233756152845\n",
       " lowest_optimization_result:       fun: -7.9458233756152845\n",
       " hess_inv: array([[1]])\n",
       "      jac: array([1.1920929e-07])\n",
       "  message: 'Optimization terminated successfully.'\n",
       "     nfev: 6\n",
       "      nit: 1\n",
       "     njev: 3\n",
       "   status: 0\n",
       "  success: True\n",
       "        x: array([-1.30644001])\n",
       "                    message: ['requested number of basinhopping iterations completed successfully']\n",
       "      minimization_failures: 0\n",
       "                       nfev: 208\n",
       "                        nit: 20\n",
       "                       njev: 104\n",
       "                          x: array([-1.30644001])"
      ]
     },
     "execution_count": 21,
     "metadata": {},
     "output_type": "execute_result"
    }
   ],
   "source": [
    "scipy.optimize.basinhopping(f,\n",
    "                            x0 = 70,\n",
    "                            niter = 20,\n",
    "                            stepsize = .2,\n",
    "                            disp = 0)"
   ]
  },
  {
   "cell_type": "markdown",
   "metadata": {},
   "source": [
    "##### ***calendar***"
   ]
  },
  {
   "cell_type": "code",
   "execution_count": 20,
   "metadata": {},
   "outputs": [
    {
     "name": "stdout",
     "output_type": "stream",
     "text": [
      "                                                                        57\n",
      "\n",
      "      January                  February                  March                    April                     May                      June\n",
      "Mo Tu We Th Fr Sa Su     Mo Tu We Th Fr Sa Su     Mo Tu We Th Fr Sa Su     Mo Tu We Th Fr Sa Su     Mo Tu We Th Fr Sa Su     Mo Tu We Th Fr Sa Su\n",
      " 1  2  3  4  5  6  7               1  2  3  4               1  2  3  4                        1         1  2  3  4  5  6                  1  2  3\n",
      " 8  9 10 11 12 13 14      5  6  7  8  9 10 11      5  6  7  8  9 10 11      2  3  4  5  6  7  8      7  8  9 10 11 12 13      4  5  6  7  8  9 10\n",
      "15 16 17 18 19 20 21     12 13 14 15 16 17 18     12 13 14 15 16 17 18      9 10 11 12 13 14 15     14 15 16 17 18 19 20     11 12 13 14 15 16 17\n",
      "22 23 24 25 26 27 28     19 20 21 22 23 24 25     19 20 21 22 23 24 25     16 17 18 19 20 21 22     21 22 23 24 25 26 27     18 19 20 21 22 23 24\n",
      "29 30 31                 26 27 28                 26 27 28 29 30 31        23 24 25 26 27 28 29     28 29 30 31              25 26 27 28 29 30\n",
      "                                                                           30\n",
      "\n",
      "        July                    August                 September                 October                  November                 December\n",
      "Mo Tu We Th Fr Sa Su     Mo Tu We Th Fr Sa Su     Mo Tu We Th Fr Sa Su     Mo Tu We Th Fr Sa Su     Mo Tu We Th Fr Sa Su     Mo Tu We Th Fr Sa Su\n",
      "                   1            1  2  3  4  5                     1  2      1  2  3  4  5  6  7               1  2  3  4                     1  2\n",
      " 2  3  4  5  6  7  8      6  7  8  9 10 11 12      3  4  5  6  7  8  9      8  9 10 11 12 13 14      5  6  7  8  9 10 11      3  4  5  6  7  8  9\n",
      " 9 10 11 12 13 14 15     13 14 15 16 17 18 19     10 11 12 13 14 15 16     15 16 17 18 19 20 21     12 13 14 15 16 17 18     10 11 12 13 14 15 16\n",
      "16 17 18 19 20 21 22     20 21 22 23 24 25 26     17 18 19 20 21 22 23     22 23 24 25 26 27 28     19 20 21 22 23 24 25     17 18 19 20 21 22 23\n",
      "23 24 25 26 27 28 29     27 28 29 30 31           24 25 26 27 28 29 30     29 30 31                 26 27 28 29 30           24 25 26 27 28 29 30\n",
      "30 31                                                                                                                        31\n",
      "\n"
     ]
    }
   ],
   "source": [
    "from calendar import *\n",
    "year = int(input('Enter year: '))\n",
    "print(calendar(year,2,1,5,6))"
   ]
  }
 ],
 "metadata": {
  "kernelspec": {
   "display_name": "Python 3.9.7 ('base')",
   "language": "python",
   "name": "python3"
  },
  "language_info": {
   "codemirror_mode": {
    "name": "ipython",
    "version": 3
   },
   "file_extension": ".py",
   "mimetype": "text/x-python",
   "name": "python",
   "nbconvert_exporter": "python",
   "pygments_lexer": "ipython3",
   "version": "3.9.7"
  },
  "orig_nbformat": 4,
  "vscode": {
   "interpreter": {
    "hash": "e47254bb17cc6746e905ae014bc04f6681234d7e0366d8541590b18c10f99a04"
   }
  }
 },
 "nbformat": 4,
 "nbformat_minor": 2
}
