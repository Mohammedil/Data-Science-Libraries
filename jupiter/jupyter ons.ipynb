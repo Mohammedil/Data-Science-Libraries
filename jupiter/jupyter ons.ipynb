{
 "cells": [
  {
   "cell_type": "code",
   "execution_count": 3,
   "metadata": {},
   "outputs": [
    {
     "name": "stdout",
     "output_type": "stream",
     "text": [
      "25\n"
     ]
    }
   ],
   "source": [
    "# press [Ecs] to cumand mode \n",
    "# press [enter] to edit mode\n",
    "x = 25\n",
    "print(x)"
   ]
  },
  {
   "cell_type": "markdown",
   "metadata": {},
   "source": [
    "* [Shift + enter]   to run this cell and move to the next cell\n",
    "* [ctrl + enter]    to run this cell without moving to the next cell\n",
    "* [alt + enter]     to run this cell and creat a new cell\n",
    "* [ctrl + s]        to save the notebook"
   ]
  },
  {
   "cell_type": "markdown",
   "metadata": {},
   "source": [
    "comand mode"
   ]
  },
  {
   "cell_type": "markdown",
   "metadata": {},
   "source": [
    "* [shift + h]    to view all shortcutes\n",
    "* [up]   to move up\n",
    "* [down] to move down\n",
    "* [shift + up]   to datermine this cell and the up cell\n",
    "* [shift + down] to datermine this cell and the down cell\n",
    "* [A]            to create a new cell up\n",
    "* [B]            to create a new cell down\n",
    "* [dd]           to delete a cell\n",
    "* [z]            to return the cell\n",
    "* [s]            to save\n",
    "* [m]            to markdown from code\n",
    "* [y]            to code from markdown"
   ]
  }
 ],
 "metadata": {
  "interpreter": {
   "hash": "e47254bb17cc6746e905ae014bc04f6681234d7e0366d8541590b18c10f99a04"
  },
  "kernelspec": {
   "display_name": "Python 3.9.7 ('base')",
   "language": "python",
   "name": "python3"
  },
  "language_info": {
   "codemirror_mode": {
    "name": "ipython",
    "version": 3
   },
   "file_extension": ".py",
   "mimetype": "text/x-python",
   "name": "python",
   "nbconvert_exporter": "python",
   "pygments_lexer": "ipython3",
   "version": "3.9.7"
  },
  "orig_nbformat": 4
 },
 "nbformat": 4,
 "nbformat_minor": 2
}
